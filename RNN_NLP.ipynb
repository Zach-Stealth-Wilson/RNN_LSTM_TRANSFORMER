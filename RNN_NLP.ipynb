{
  "nbformat": 4,
  "nbformat_minor": 0,
  "metadata": {
    "colab": {
      "provenance": [],
      "gpuType": "T4"
    },
    "kernelspec": {
      "name": "python3",
      "display_name": "Python 3"
    },
    "language_info": {
      "name": "python"
    },
    "accelerator": "GPU"
  },
  "cells": [
    {
      "cell_type": "markdown",
      "source": [
        "# SIMPLE RNN"
      ],
      "metadata": {
        "id": "r-h-0_D_aQqX"
      }
    },
    {
      "cell_type": "code",
      "execution_count": 11,
      "metadata": {
        "id": "BAoR-1idHdAs"
      },
      "outputs": [],
      "source": [
        "# Import standard libraries\n",
        "import numpy as np  # For numerical operations and array handling\n",
        "import pandas as pd  # For CSV file data processing and manipulation\n",
        "\n",
        "# Explore the contents of the Kaggle input directory\n",
        "# This will print all filenames under '/kaggle/input', where uploaded datasets are stored\n",
        "import os\n",
        "\n",
        "for dirname, _, filenames in os.walk('/kaggle/input'):\n",
        "    for filename in filenames:\n",
        "        print(os.path.join(dirname, filename))\n",
        "\n"
      ]
    },
    {
      "cell_type": "code",
      "source": [
        "# Check for GPU\n",
        "import tensorflow as tf\n",
        "print(\"TensorFlow version:\", tf.__version__)\n",
        "print(\"GPU available:\", tf.config.list_physical_devices('GPU'))\n"
      ],
      "metadata": {
        "colab": {
          "base_uri": "https://localhost:8080/"
        },
        "id": "rkKGmap6Wc6d",
        "outputId": "2b8e3940-3c56-49c4-98fd-14c6a6fc6f4a"
      },
      "execution_count": 12,
      "outputs": [
        {
          "output_type": "stream",
          "name": "stdout",
          "text": [
            "TensorFlow version: 2.18.0\n",
            "GPU available: [PhysicalDevice(name='/physical_device:GPU:0', device_type='GPU')]\n"
          ]
        }
      ]
    },
    {
      "cell_type": "code",
      "source": [
        "# Import compatibility feature for consistent print\n",
        "from __future__ import print_function\n",
        "\n",
        "# Import layers and model building tools from TensorFlow\n",
        "from tensorflow.keras.layers import Dense, Activation, SimpleRNN, Embedding  # Layers for the model\n",
        "from tensorflow.keras.models import Sequential  # Used to build a sequential stack of layers (our RNN model)\n"
      ],
      "metadata": {
        "id": "rBwpvTL1RdRG"
      },
      "execution_count": 13,
      "outputs": []
    },
    {
      "cell_type": "code",
      "source": [
        "%ls"
      ],
      "metadata": {
        "colab": {
          "base_uri": "https://localhost:8080/"
        },
        "id": "Ca_e6d9tVatk",
        "outputId": "9099e8e7-296b-410b-8c70-f0c5f7501bd4"
      },
      "execution_count": 14,
      "outputs": [
        {
          "output_type": "stream",
          "name": "stdout",
          "text": [
            "\u001b[0m\u001b[01;34msample_data\u001b[0m/\n"
          ]
        }
      ]
    },
    {
      "cell_type": "code",
      "source": [
        "# Open the Alice in Wonderland text file in binary mode ('rb') from the Kaggle input directory\n",
        "fin = open(\"sample_data/alice.txt\", 'rb')\n",
        "\n",
        "lines = []\n",
        "for line in fin:\n",
        "    # Remove leading/trailing whitespace and convert to lowercase\n",
        "    line = line.strip().lower()\n",
        "\n",
        "    # Decode binary to ASCII, ignoring characters that can't be decoded\n",
        "    line = line.decode(\"ascii\", \"ignore\")\n",
        "\n",
        "    # Skip empty lines\n",
        "    if len(line) == 0:\n",
        "        continue\n",
        "\n",
        "    # Add the cleaned line to our list\n",
        "    lines.append(line)\n",
        "\n",
        "# Close the file after reading\n",
        "fin.close()\n",
        "\n",
        "# Combine all lines into a single text string\n",
        "text = \" \".join(lines)\n"
      ],
      "metadata": {
        "id": "fDZ4A0fWR0qT"
      },
      "execution_count": 15,
      "outputs": []
    },
    {
      "cell_type": "code",
      "source": [
        "# Step 1: Extract the unique set of characters in the text\n",
        "chars = set(text)  # All unique characters that appear in the dataset\n",
        "\n",
        "# Step 2: Count the total number of unique characters (vocabulary size)\n",
        "nb_chars = len(chars)\n",
        "print(f\"Total unique characters (vocab size): {nb_chars}\")\n",
        "\n",
        "# Step 3: Create lookup dictionaries similar to tokenizing the data per character\n",
        "# char2index: maps each character to a unique index\n",
        "# index2char: maps each index back to its character\n",
        "char2index = {c: i for i, c in enumerate(chars)}\n",
        "index2char = {i: c for i, c in enumerate(chars)}\n"
      ],
      "metadata": {
        "colab": {
          "base_uri": "https://localhost:8080/"
        },
        "id": "k3o-67tASC3w",
        "outputId": "51642ed4-bc0f-4cf5-c3c1-2e3b54606d51"
      },
      "execution_count": 16,
      "outputs": [
        {
          "output_type": "stream",
          "name": "stdout",
          "text": [
            "Total unique characters (vocab size): 45\n"
          ]
        }
      ]
    },
    {
      "cell_type": "code",
      "source": [
        "# Length of each input sequence (number of characters the RNN will read before predicting the next one)\n",
        "SEQLEN = 10\n",
        "\n",
        "# Step size — how much to shift the window to get the next training example\n",
        "STEP = 1\n",
        "\n",
        "# Lists to hold input sequences and their corresponding next characters\n",
        "input_chars = []\n",
        "label_chars = []\n",
        "\n",
        "# Slide a window of length SEQLEN across the text\n",
        "for i in range(0, len(text) - SEQLEN, STEP):\n",
        "    # Input: sequence of SEQLEN characters\n",
        "    input_chars.append(text[i:i + SEQLEN])\n",
        "\n",
        "    # Label: the character immediately following the sequence\n",
        "    label_chars.append(text[i + SEQLEN])\n"
      ],
      "metadata": {
        "id": "H_sYcOZOSLhn"
      },
      "execution_count": 17,
      "outputs": []
    },
    {
      "cell_type": "code",
      "source": [
        "# Initialize input array X:\n",
        "# - Shape: (number of sequences, sequence length)\n",
        "# - Each element will hold an integer index corresponding to a character\n",
        "X = np.zeros((len(input_chars), SEQLEN), dtype=np.int32)\n",
        "\n",
        "# Initialize output array y:\n",
        "# - Shape: (number of sequences,)\n",
        "# - Each element is the index of the next character to be predicted\n",
        "y = np.zeros(len(input_chars), dtype=np.int32)\n",
        "\n",
        "# Convert each character in the input sequences to its corresponding index\n",
        "for i, input_seq in enumerate(input_chars):\n",
        "    for j, ch in enumerate(input_seq):\n",
        "        X[i, j] = char2index[ch]  # Fill in character index at position j\n",
        "\n",
        "    # Set the target label as the index of the next character after the sequence\n",
        "    y[i] = char2index[label_chars[i]]\n"
      ],
      "metadata": {
        "id": "GfPf4WUXSMpz"
      },
      "execution_count": 18,
      "outputs": []
    },
    {
      "cell_type": "code",
      "source": [],
      "metadata": {
        "id": "h9pX1O-xXKHf"
      },
      "execution_count": 18,
      "outputs": []
    },
    {
      "cell_type": "code",
      "source": [
        "# Hyperparameters\n",
        "HIDDEN_SIZE = 128                # Number of units in the RNN hidden layer\n",
        "BATCH_SIZE = 128                 # Number of samples per training batch\n",
        "NUM_ITERATIONS = 25              # Total training iterations (outer loop)\n",
        "NUM_EPOCHS_PER_ITERATION = 1     # Number of epochs per iteration\n",
        "NUM_PREDS_PER_EPOCH = 100        # Number of characters to generate after each iteration\n",
        "\n",
        "# Define a simple RNN model\n",
        "model = Sequential()\n",
        "\n",
        "# Embedding layer: maps input character indices to dense vectors\n",
        "# input_dim = vocabulary size (number of unique characters)\n",
        "# output_dim = embedding dimension (can be tuned)\n",
        "# input_length = number of characters in each input sequence\n",
        "model.add(Embedding(input_dim=nb_chars, output_dim=64, input_length=SEQLEN))\n",
        "\n",
        "# Add the SimpleRNN layer\n",
        "model.add(SimpleRNN(\n",
        "    HIDDEN_SIZE,\n",
        "    return_sequences=False,          # We only want the final output for prediction\n",
        "    input_shape=(SEQLEN, nb_chars),  # Input shape: (sequence length, vocab size)\n",
        "    unroll=True                      # Unroll the loop for speed which is useful for small sequences\n",
        "))\n",
        "\n",
        "# Fully connected output layer that predicts the next character\n",
        "model.add(Dense(nb_chars))\n",
        "\n",
        "# Softmax activation to output probability distribution over characters\n",
        "model.add(Activation(\"softmax\"))\n",
        "\n",
        "# Compile the model with sparse categorical crossentropy loss and RMSprop optimizer\n",
        "model.compile(\n",
        "    loss=\"sparse_categorical_crossentropy\",\n",
        "    optimizer=\"rmsprop\"\n",
        ")\n"
      ],
      "metadata": {
        "id": "bXCoL30VSVwu"
      },
      "execution_count": 19,
      "outputs": []
    },
    {
      "cell_type": "code",
      "source": [
        "# Initialize an empty list to store training loss values after each epoch\n",
        "losses = []\n",
        "\n",
        "# Training and generation loop\n",
        "for iteration in range(NUM_ITERATIONS):\n",
        "    print(\"=\" * 50)\n",
        "    print(f\"Iteration #: {iteration}\")\n",
        "\n",
        "    # Train and save loss in history\n",
        "    history = model.fit(X, y, batch_size=BATCH_SIZE, epochs=NUM_EPOCHS_PER_ITERATION)\n",
        "\n",
        "    # Append the training loss for this epoch to loss history list\n",
        "    losses.extend(history.history[\"loss\"])\n",
        "\n",
        "    # Select a random seed sequence from training data\n",
        "    test_idx = np.random.randint(len(input_chars))\n",
        "    test_chars = input_chars[test_idx]\n",
        "\n",
        "    print(f\"\\nGenerating from seed: \\\"{test_chars}\\\"\")\n",
        "    print(test_chars, end=\"\")\n",
        "\n",
        "    # Generate NUM_PREDS_PER_EPOCH characters from the seed\n",
        "    for i in range(NUM_PREDS_PER_EPOCH):\n",
        "        # Create a new test input array with shape (1, SEQLEN), containing integer indices\n",
        "        Xtest = np.zeros((1, SEQLEN), dtype=np.int32)\n",
        "\n",
        "        for j, ch in enumerate(test_chars):\n",
        "            Xtest[0, j] = char2index[ch]  # Integer encode each character\n",
        "\n",
        "\n",
        "        # Predict next character probabilities\n",
        "        pred = model.predict(Xtest, verbose=0)[0]\n",
        "\n",
        "        # Pick the most probable next character\n",
        "        ypred = index2char[np.argmax(pred)]\n",
        "\n",
        "        # Print the predicted character\n",
        "        print(ypred, end=\"\")\n",
        "\n",
        "        # Slide the window: remove first char and append the predicted one\n",
        "        test_chars = test_chars[1:] + ypred\n",
        "\n",
        "print()  # Print newline after final output\n"
      ],
      "metadata": {
        "colab": {
          "base_uri": "https://localhost:8080/"
        },
        "id": "NmmimOl2Sh-k",
        "outputId": "e4e79029-1efe-4b5d-8ac1-e6909446fcdb"
      },
      "execution_count": 20,
      "outputs": [
        {
          "output_type": "stream",
          "name": "stdout",
          "text": [
            "==================================================\n",
            "Iteration #: 0\n",
            "\u001b[1m1122/1122\u001b[0m \u001b[32m━━━━━━━━━━━━━━━━━━━━\u001b[0m\u001b[37m\u001b[0m \u001b[1m10s\u001b[0m 5ms/step - loss: 2.5351\n",
            "\n",
            "Generating from seed: \"soon finis\"\n",
            "soon finis alice and the har alice and the har alice and the har alice and the har alice and the har alice and==================================================\n",
            "Iteration #: 1\n",
            "\u001b[1m1122/1122\u001b[0m \u001b[32m━━━━━━━━━━━━━━━━━━━━\u001b[0m\u001b[37m\u001b[0m \u001b[1m3s\u001b[0m 3ms/step - loss: 1.9450\n",
            "\n",
            "Generating from seed: \" imitated \"\n",
            " imitated and the hare all the hat and the hare all the hat and the hare all the hat and the hare all the hat ==================================================\n",
            "Iteration #: 2\n",
            "\u001b[1m1122/1122\u001b[0m \u001b[32m━━━━━━━━━━━━━━━━━━━━\u001b[0m\u001b[37m\u001b[0m \u001b[1m3s\u001b[0m 3ms/step - loss: 1.7665\n",
            "\n",
            "Generating from seed: \"the royal \"\n",
            "the royal said the mock turtle said the mock turtle said the mock turtle said the mock turtle said the mock tu==================================================\n",
            "Iteration #: 3\n",
            "\u001b[1m1122/1122\u001b[0m \u001b[32m━━━━━━━━━━━━━━━━━━━━\u001b[0m\u001b[37m\u001b[0m \u001b[1m3s\u001b[0m 3ms/step - loss: 1.6587\n",
            "\n",
            "Generating from seed: \"the roof o\"\n",
            "the roof of the mouse of the mouse of the mouse of the mouse of the mouse of the mouse of the mouse of the mou==================================================\n",
            "Iteration #: 4\n",
            "\u001b[1m1122/1122\u001b[0m \u001b[32m━━━━━━━━━━━━━━━━━━━━\u001b[0m\u001b[37m\u001b[0m \u001b[1m3s\u001b[0m 3ms/step - loss: 1.5804\n",
            "\n",
            "Generating from seed: \" she had s\"\n",
            " she had some the dormouse she said the king alice was she said the king alice was she said the king alice was==================================================\n",
            "Iteration #: 5\n",
            "\u001b[1m1122/1122\u001b[0m \u001b[32m━━━━━━━━━━━━━━━━━━━━\u001b[0m\u001b[37m\u001b[0m \u001b[1m3s\u001b[0m 3ms/step - loss: 1.5119\n",
            "\n",
            "Generating from seed: \"id alice. \"\n",
            "id alice. `i don't know a ming alice a mine she had not the march hare alice a mine she had not the march hare==================================================\n",
            "Iteration #: 6\n",
            "\u001b[1m1122/1122\u001b[0m \u001b[32m━━━━━━━━━━━━━━━━━━━━\u001b[0m\u001b[37m\u001b[0m \u001b[1m3s\u001b[0m 3ms/step - loss: 1.4803\n",
            "\n",
            "Generating from seed: \" of the ro\"\n",
            " of the roon and the mock turtle in the said the mouse the more the mock turtle in the said the mouse the more==================================================\n",
            "Iteration #: 7\n",
            "\u001b[1m1122/1122\u001b[0m \u001b[32m━━━━━━━━━━━━━━━━━━━━\u001b[0m\u001b[37m\u001b[0m \u001b[1m3s\u001b[0m 3ms/step - loss: 1.4491\n",
            "\n",
            "Generating from seed: \"ame.' the \"\n",
            "ame.' the mock turtle in the mock turtle in the mock turtle in the mock turtle in the mock turtle in the mock ==================================================\n",
            "Iteration #: 8\n",
            "\u001b[1m1122/1122\u001b[0m \u001b[32m━━━━━━━━━━━━━━━━━━━━\u001b[0m\u001b[37m\u001b[0m \u001b[1m4s\u001b[0m 3ms/step - loss: 1.4239\n",
            "\n",
            "Generating from seed: \"nd an eagl\"\n",
            "nd an eagled out of the court, and the court, and the court, and the court, and the court, and the court, and ==================================================\n",
            "Iteration #: 9\n",
            "\u001b[1m1122/1122\u001b[0m \u001b[32m━━━━━━━━━━━━━━━━━━━━\u001b[0m\u001b[37m\u001b[0m \u001b[1m4s\u001b[0m 3ms/step - loss: 1.3941\n",
            "\n",
            "Generating from seed: \"king; and \"\n",
            "king; and the mock turtle said to the mock turtle said to the mock turtle said to the mock turtle said to the ==================================================\n",
            "Iteration #: 10\n",
            "\u001b[1m1122/1122\u001b[0m \u001b[32m━━━━━━━━━━━━━━━━━━━━\u001b[0m\u001b[37m\u001b[0m \u001b[1m3s\u001b[0m 3ms/step - loss: 1.3704\n",
            "\n",
            "Generating from seed: \"ooked at t\"\n",
            "ooked at the hatter was a little she had not the hatter was a little she had not the hatter was a little she h==================================================\n",
            "Iteration #: 11\n",
            "\u001b[1m1122/1122\u001b[0m \u001b[32m━━━━━━━━━━━━━━━━━━━━\u001b[0m\u001b[37m\u001b[0m \u001b[1m3s\u001b[0m 3ms/step - loss: 1.3595\n",
            "\n",
            "Generating from seed: \"using it a\"\n",
            "using it and the mock turtle she could not a little she had not a little she had not a little she had not a li==================================================\n",
            "Iteration #: 12\n",
            "\u001b[1m1122/1122\u001b[0m \u001b[32m━━━━━━━━━━━━━━━━━━━━\u001b[0m\u001b[37m\u001b[0m \u001b[1m4s\u001b[0m 3ms/step - loss: 1.3500\n",
            "\n",
            "Generating from seed: \"ng- glass.\"\n",
            "ng- glass.  `i don't say in a some to see to see to see to see to see to see to see to see to see to see to se==================================================\n",
            "Iteration #: 13\n",
            "\u001b[1m1122/1122\u001b[0m \u001b[32m━━━━━━━━━━━━━━━━━━━━\u001b[0m\u001b[37m\u001b[0m \u001b[1m3s\u001b[0m 3ms/step - loss: 1.3280\n",
            "\n",
            "Generating from seed: \"thing is t\"\n",
            "thing is the mock turtle she had not the mock turtle she had not the mock turtle she had not the mock turtle s==================================================\n",
            "Iteration #: 14\n",
            "\u001b[1m1122/1122\u001b[0m \u001b[32m━━━━━━━━━━━━━━━━━━━━\u001b[0m\u001b[37m\u001b[0m \u001b[1m3s\u001b[0m 3ms/step - loss: 1.3244\n",
            "\n",
            "Generating from seed: \"red, and t\"\n",
            "red, and the mock turtle she was the court, and she was the court, and she was the court, and she was the cour==================================================\n",
            "Iteration #: 15\n",
            "\u001b[1m1122/1122\u001b[0m \u001b[32m━━━━━━━━━━━━━━━━━━━━\u001b[0m\u001b[37m\u001b[0m \u001b[1m3s\u001b[0m 3ms/step - loss: 1.3072\n",
            "\n",
            "Generating from seed: \"d she drop\"\n",
            "d she dropped her head in the dormouse it was a little with the dormouse it was a little with the dormouse it ==================================================\n",
            "Iteration #: 16\n",
            "\u001b[1m1122/1122\u001b[0m \u001b[32m━━━━━━━━━━━━━━━━━━━━\u001b[0m\u001b[37m\u001b[0m \u001b[1m3s\u001b[0m 3ms/step - loss: 1.2996\n",
            "\n",
            "Generating from seed: \"ighbour to\"\n",
            "ighbour to see the mock turtle she had not a serpent of the mock turtle she had not a serpent of the mock turt==================================================\n",
            "Iteration #: 17\n",
            "\u001b[1m1122/1122\u001b[0m \u001b[32m━━━━━━━━━━━━━━━━━━━━\u001b[0m\u001b[37m\u001b[0m \u001b[1m3s\u001b[0m 3ms/step - loss: 1.2904\n",
            "\n",
            "Generating from seed: \"nstant how\"\n",
            "nstant how and her hand engure up and so the gryphon was so on a little round of the gryphon was so on a littl==================================================\n",
            "Iteration #: 18\n",
            "\u001b[1m1122/1122\u001b[0m \u001b[32m━━━━━━━━━━━━━━━━━━━━\u001b[0m\u001b[37m\u001b[0m \u001b[1m4s\u001b[0m 3ms/step - loss: 1.2814\n",
            "\n",
            "Generating from seed: \" `we can d\"\n",
            " `we can didning of the mouse down here, the mouse down here, the mouse down here, the mouse down here, the mo==================================================\n",
            "Iteration #: 19\n",
            "\u001b[1m1122/1122\u001b[0m \u001b[32m━━━━━━━━━━━━━━━━━━━━\u001b[0m\u001b[37m\u001b[0m \u001b[1m3s\u001b[0m 3ms/step - loss: 1.2703\n",
            "\n",
            "Generating from seed: \"naged to s\"\n",
            "naged to see the mouse in a some of the mouse in a some of the mouse in a some of the mouse in a some of the m==================================================\n",
            "Iteration #: 20\n",
            "\u001b[1m1122/1122\u001b[0m \u001b[32m━━━━━━━━━━━━━━━━━━━━\u001b[0m\u001b[37m\u001b[0m \u001b[1m3s\u001b[0m 3ms/step - loss: 1.2734\n",
            "\n",
            "Generating from seed: \"id alice, \"\n",
            "id alice, and the mock turtle shouted the court and the mock turtle shouted the court and the mock turtle shou==================================================\n",
            "Iteration #: 21\n",
            "\u001b[1m1122/1122\u001b[0m \u001b[32m━━━━━━━━━━━━━━━━━━━━\u001b[0m\u001b[37m\u001b[0m \u001b[1m4s\u001b[0m 3ms/step - loss: 1.2577\n",
            "\n",
            "Generating from seed: \" we were l\"\n",
            " we were looked at the dormouse it was a very head to have again, and the mock turtle was of the mock turtle w==================================================\n",
            "Iteration #: 22\n",
            "\u001b[1m1122/1122\u001b[0m \u001b[32m━━━━━━━━━━━━━━━━━━━━\u001b[0m\u001b[37m\u001b[0m \u001b[1m3s\u001b[0m 3ms/step - loss: 1.2594\n",
            "\n",
            "Generating from seed: \" her waiti\"\n",
            " her waiting at the window?' said the king was so she was a little shall herself as she was a little shall her==================================================\n",
            "Iteration #: 23\n",
            "\u001b[1m1122/1122\u001b[0m \u001b[32m━━━━━━━━━━━━━━━━━━━━\u001b[0m\u001b[37m\u001b[0m \u001b[1m3s\u001b[0m 3ms/step - loss: 1.2529\n",
            "\n",
            "Generating from seed: \"use, sharp\"\n",
            "use, sharp the court, with a treach of the way in a tome the rabbit so some down a little bottle the mock turt==================================================\n",
            "Iteration #: 24\n",
            "\u001b[1m1122/1122\u001b[0m \u001b[32m━━━━━━━━━━━━━━━━━━━━\u001b[0m\u001b[37m\u001b[0m \u001b[1m3s\u001b[0m 3ms/step - loss: 1.2520\n",
            "\n",
            "Generating from seed: \"ossed the \"\n",
            "ossed the dormouse did not a bothout on the window, and the mock turtle shouted the dormouse did not a bothout\n"
          ]
        }
      ]
    },
    {
      "cell_type": "code",
      "source": [
        "# Import the plotting library for visualizing training progress\n",
        "import matplotlib.pyplot as plt\n",
        "\n",
        "# Create a new figure with a custom size\n",
        "plt.figure(figsize=(8, 4))\n",
        "\n",
        "# Plot the training loss values stored in the 'losses' list\n",
        "plt.plot(losses, label=\"Training Loss\")\n",
        "\n",
        "# Add title and axis labels\n",
        "plt.title(\"Training Loss Curve\")      # Title for the plot\n",
        "plt.xlabel(\"Epoch\")                   # X-axis shows training epochs\n",
        "plt.ylabel(\"Loss\")                    # Y-axis shows loss value\n",
        "\n",
        "# Add legend and grid for better readability\n",
        "plt.legend()                          # Show legend for the loss line\n",
        "plt.grid(True)                        # Display grid lines for better readability\n",
        "\n",
        "# Display the plot\n",
        "plt.show()\n"
      ],
      "metadata": {
        "colab": {
          "base_uri": "https://localhost:8080/",
          "height": 410
        },
        "id": "Atd3-vlmUGVR",
        "outputId": "8f92721e-7d95-4fe3-80b9-c58188c812bc"
      },
      "execution_count": 21,
      "outputs": [
        {
          "output_type": "display_data",
          "data": {
            "text/plain": [
              "<Figure size 800x400 with 1 Axes>"
            ],
            "image/png": "[encoded data removed]"
          },
          "metadata": {}
        }
      ]
    },
    {
      "cell_type": "markdown",
      "source": [
        "# RNN Source: https://www.kaggle.com/code/roblexnana/generating-text-for-nlp-using-simplernn-with"
      ],
      "metadata": {
        "id": "oUCpURR_P80l"
      }
    },
    {
      "cell_type": "markdown",
      "source": [
        "This notebook provided a clear, working example of a character-level language model using Keras' SimpleRNN and Embedding layers. It helped me understand how to preprocess text into fixed-length sequences, build a simple RNN model, and generate text from a trained model. The structure of the notebook also closely aligns with the assignment, making it a great reference for my implementation.\n",
        "\n"
      ],
      "metadata": {
        "id": "XoH6aRc1XOpr"
      }
    },
    {
      "cell_type": "markdown",
      "source": [
        "#RNN Source: https://www.kaggle.com/code/paultimothymooney/text-generation-with-rnn-and-keras-bob-dylan\n",
        "\n",
        "This souce helped me switch from one-hot encoding input to a more efficent representation by switching to \"interger-encoded input\" and introducing the embedded layer, I enabled the model to learn a dense vector representation for each charracter during training, further improving the models ablilty to recongize patterns in character sequences. This source also helped me update my loss function to sparse_categorecal_crossentropy.\n",
        "\n"
      ],
      "metadata": {
        "id": "-infX3kzXuhd"
      }
    },
    {
      "cell_type": "markdown",
      "source": [
        "#GRU GENERATION"
      ],
      "metadata": {
        "id": "DafjfvICaZxQ"
      }
    },
    {
      "cell_type": "code",
      "source": [
        "# Import GRU layer from Keras\n",
        "# GRU (Gated Recurrent Unit) is a more advanced RNN variant that helps retain long-term dependencies\n",
        "from tensorflow.keras.layers import GRU\n"
      ],
      "metadata": {
        "id": "837H3EmyacUZ"
      },
      "execution_count": 22,
      "outputs": []
    },
    {
      "cell_type": "code",
      "source": [
        "# Define a character-level language model using a GRU layer\n",
        "gru_model = Sequential()\n",
        "\n",
        "# Embedding layer: maps character indices to dense 64-dimensional vectors\n",
        "# This allows the model to learn a continuous representation of characters\n",
        "gru_model.add(Embedding(input_dim=nb_chars, output_dim=64, input_length=SEQLEN))\n",
        "\n",
        "# GRU layer: processes the input sequence and captures temporal dependencies\n",
        "# HIDDEN_SIZE controls the number of units in the GRU cell\n",
        "# unroll=True can improve speed for small sequences\n",
        "gru_model.add(GRU(HIDDEN_SIZE, unroll=True))\n",
        "\n",
        "# Output layer: maps GRU output to vocabulary size for next character prediction\n",
        "gru_model.add(Dense(nb_chars))\n",
        "\n",
        "# Softmax activation: converts output to probability distribution over characters\n",
        "gru_model.add(Activation(\"softmax\"))\n",
        "\n",
        "# Compile the model with loss and optimizer\n",
        "# 'sparse_categorical_crossentropy' is used because the target labels are integer-encoded\n",
        "gru_model.compile(\n",
        "    loss=\"sparse_categorical_crossentropy\",\n",
        "    optimizer=\"rmsprop\"\n",
        ")\n"
      ],
      "metadata": {
        "id": "Abd4Ytcga1pu"
      },
      "execution_count": 23,
      "outputs": []
    },
    {
      "cell_type": "code",
      "source": [
        "# Initialize a list to store loss values from GRU model\n",
        "gru_losses = []\n",
        "\n",
        "# Train the GRU model over multiple iterations\n",
        "for iteration in range(NUM_ITERATIONS):\n",
        "    print(\"=\" * 50)\n",
        "    print(f\"GRU Iteration #: {iteration}\")\n",
        "\n",
        "    # Train the model for 1 epoch and record loss\n",
        "    history = gru_model.fit(X, y, batch_size=BATCH_SIZE, epochs=NUM_EPOCHS_PER_ITERATION)\n",
        "\n",
        "    # Store training loss to compare with other models\n",
        "    gru_losses.extend(history.history[\"loss\"])\n",
        "\n",
        "     # Select a random seed sequence from training data\n",
        "    test_idx = np.random.randint(len(input_chars))\n",
        "    test_chars = input_chars[test_idx]\n",
        "\n",
        "    print(f\"\\nGenerating from seed: \\\"{test_chars}\\\"\")\n",
        "    print(test_chars, end=\"\")\n",
        "\n",
        "    # Generate NUM_PREDS_PER_EPOCH characters from the seed\n",
        "    for i in range(NUM_PREDS_PER_EPOCH):\n",
        "        # Create a new test input array with shape (1, SEQLEN), containing integer indices\n",
        "        Xtest = np.zeros((1, SEQLEN), dtype=np.int32)\n",
        "\n",
        "        for j, ch in enumerate(test_chars):\n",
        "            Xtest[0, j] = char2index[ch]  # Integer encode each character\n",
        "\n",
        "\n",
        "        # Predict next character probabilities\n",
        "        pred = model.predict(Xtest, verbose=0)[0]\n",
        "\n",
        "        # Pick the most probable next character\n",
        "        ypred = index2char[np.argmax(pred)]\n",
        "\n",
        "        # Print the predicted character\n",
        "        print(ypred, end=\"\")\n",
        "\n",
        "        # Slide the window: remove first char and append the predicted one\n",
        "        test_chars = test_chars[1:] + ypred\n",
        "\n",
        "print()  # Print newline after final output\n",
        "\n",
        "\n",
        "\n"
      ],
      "metadata": {
        "colab": {
          "base_uri": "https://localhost:8080/"
        },
        "id": "w-CC8y8Sb5ua",
        "outputId": "f82b49b9-14e9-4ee6-9835-7d91446e3bfd"
      },
      "execution_count": 25,
      "outputs": [
        {
          "output_type": "stream",
          "name": "stdout",
          "text": [
            "==================================================\n",
            "GRU Iteration #: 0\n",
            "\u001b[1m1122/1122\u001b[0m \u001b[32m━━━━━━━━━━━━━━━━━━━━\u001b[0m\u001b[37m\u001b[0m \u001b[1m4s\u001b[0m 3ms/step - loss: 1.4288\n",
            "\n",
            "Generating from seed: \"the twinkl\"\n",
            "the twinkle, then the mock turtle shouted the dormouse did not a bothout on the window, and the mock turtle sh==================================================\n",
            "GRU Iteration #: 1\n",
            "\u001b[1m1122/1122\u001b[0m \u001b[32m━━━━━━━━━━━━━━━━━━━━\u001b[0m\u001b[37m\u001b[0m \u001b[1m4s\u001b[0m 3ms/step - loss: 1.3742\n",
            "\n",
            "Generating from seed: \" of tumbli\"\n",
            " of tumbling the dormouse did not a bothout on the window, and the mock turtle shouted the dormouse did not a ==================================================\n",
            "GRU Iteration #: 2\n",
            "\u001b[1m1122/1122\u001b[0m \u001b[32m━━━━━━━━━━━━━━━━━━━━\u001b[0m\u001b[37m\u001b[0m \u001b[1m4s\u001b[0m 4ms/step - loss: 1.3334\n",
            "\n",
            "Generating from seed: \" on their \"\n",
            " on their face, and the mock turtle shouted the dormouse did not a bothout on the window, and the mock turtle ==================================================\n",
            "GRU Iteration #: 3\n",
            "\u001b[1m1122/1122\u001b[0m \u001b[32m━━━━━━━━━━━━━━━━━━━━\u001b[0m\u001b[37m\u001b[0m \u001b[1m4s\u001b[0m 4ms/step - loss: 1.2879\n",
            "\n",
            "Generating from seed: \"and that m\"\n",
            "and that make a little one eash the white rabbit began to the caterpillar and the end of the white rabbit bega==================================================\n",
            "GRU Iteration #: 4\n",
            "\u001b[1m1122/1122\u001b[0m \u001b[32m━━━━━━━━━━━━━━━━━━━━\u001b[0m\u001b[37m\u001b[0m \u001b[1m4s\u001b[0m 4ms/step - loss: 1.2573\n",
            "\n",
            "Generating from seed: \"other side\"\n",
            "other side in the with the dormouse did not a bothout on the window, and the mock turtle shouted the dormouse ==================================================\n",
            "GRU Iteration #: 5\n",
            "\u001b[1m1122/1122\u001b[0m \u001b[32m━━━━━━━━━━━━━━━━━━━━\u001b[0m\u001b[37m\u001b[0m \u001b[1m4s\u001b[0m 3ms/step - loss: 1.2328\n",
            "\n",
            "Generating from seed: \"ight?  let\"\n",
            "ight?  let the dormouse did not a bothout on the window, and the mock turtle shouted the dormouse did not a bo==================================================\n",
            "GRU Iteration #: 6\n",
            "\u001b[1m1122/1122\u001b[0m \u001b[32m━━━━━━━━━━━━━━━━━━━━\u001b[0m\u001b[37m\u001b[0m \u001b[1m4s\u001b[0m 3ms/step - loss: 1.2091\n",
            "\n",
            "Generating from seed: \"ss sneezed\"\n",
            "ss sneezed out of the rest of the rest of the rest of the rest of the rest of the rest of the rest of the rest==================================================\n",
            "GRU Iteration #: 7\n",
            "\u001b[1m1122/1122\u001b[0m \u001b[32m━━━━━━━━━━━━━━━━━━━━\u001b[0m\u001b[37m\u001b[0m \u001b[1m4s\u001b[0m 3ms/step - loss: 1.1905\n",
            "\n",
            "Generating from seed: \"ment scrol\"\n",
            "ment scroll of the white rabbit began to the caterpillar and the end of the white rabbit began to the caterpil==================================================\n",
            "GRU Iteration #: 8\n",
            "\u001b[1m1122/1122\u001b[0m \u001b[32m━━━━━━━━━━━━━━━━━━━━\u001b[0m\u001b[37m\u001b[0m \u001b[1m4s\u001b[0m 3ms/step - loss: 1.1724\n",
            "\n",
            "Generating from seed: \"eplied in \"\n",
            "eplied in a serpent as she had the dormouse did not a bothout on the window, and the mock turtle shouted the d==================================================\n",
            "GRU Iteration #: 9\n",
            "\u001b[1m1122/1122\u001b[0m \u001b[32m━━━━━━━━━━━━━━━━━━━━\u001b[0m\u001b[37m\u001b[0m \u001b[1m4s\u001b[0m 3ms/step - loss: 1.1509\n",
            "\n",
            "Generating from seed: \" said the \"\n",
            " said the king to the dormouse did not a bothout on the window, and the mock turtle shouted the dormouse did n==================================================\n",
            "GRU Iteration #: 10\n",
            "\u001b[1m1122/1122\u001b[0m \u001b[32m━━━━━━━━━━━━━━━━━━━━\u001b[0m\u001b[37m\u001b[0m \u001b[1m4s\u001b[0m 3ms/step - loss: 1.1369\n",
            "\n",
            "Generating from seed: \"f--' `nons\"\n",
            "f--' `nonsed and on the window, and the mock turtle shouted the dormouse did not a bothout on the window, and ==================================================\n",
            "GRU Iteration #: 11\n",
            "\u001b[1m1122/1122\u001b[0m \u001b[32m━━━━━━━━━━━━━━━━━━━━\u001b[0m\u001b[37m\u001b[0m \u001b[1m4s\u001b[0m 3ms/step - loss: 1.1163\n",
            "\n",
            "Generating from seed: \"question. \"\n",
            "question.  `i don't be a little one eash the white rabbit began to the caterpillar and the end of the white ra==================================================\n",
            "GRU Iteration #: 12\n",
            "\u001b[1m1122/1122\u001b[0m \u001b[32m━━━━━━━━━━━━━━━━━━━━\u001b[0m\u001b[37m\u001b[0m \u001b[1m4s\u001b[0m 3ms/step - loss: 1.1027\n",
            "\n",
            "Generating from seed: \"nt to scho\"\n",
            "nt to school shouted the dormouse did not a bothout on the window, and the mock turtle shouted the dormouse di==================================================\n",
            "GRU Iteration #: 13\n",
            "\u001b[1m1122/1122\u001b[0m \u001b[32m━━━━━━━━━━━━━━━━━━━━\u001b[0m\u001b[37m\u001b[0m \u001b[1m4s\u001b[0m 4ms/step - loss: 1.0868\n",
            "\n",
            "Generating from seed: \".  the mou\"\n",
            ".  the mouse don't get on the window, and the mock turtle shouted the dormouse did not a bothout on the window==================================================\n",
            "GRU Iteration #: 14\n",
            "\u001b[1m1122/1122\u001b[0m \u001b[32m━━━━━━━━━━━━━━━━━━━━\u001b[0m\u001b[37m\u001b[0m \u001b[1m4s\u001b[0m 4ms/step - loss: 1.0800\n",
            "\n",
            "Generating from seed: \"his, as sh\"\n",
            "his, as she had the dormouse did not a bothout on the window, and the mock turtle shouted the dormouse did not==================================================\n",
            "GRU Iteration #: 15\n",
            "\u001b[1m1122/1122\u001b[0m \u001b[32m━━━━━━━━━━━━━━━━━━━━\u001b[0m\u001b[37m\u001b[0m \u001b[1m4s\u001b[0m 4ms/step - loss: 1.0674\n",
            "\n",
            "Generating from seed: \" itself, a\"\n",
            " itself, and the mock turtle shouted the dormouse did not a bothout on the window, and the mock turtle shouted==================================================\n",
            "GRU Iteration #: 16\n",
            "\u001b[1m1122/1122\u001b[0m \u001b[32m━━━━━━━━━━━━━━━━━━━━\u001b[0m\u001b[37m\u001b[0m \u001b[1m4s\u001b[0m 4ms/step - loss: 1.0574\n",
            "\n",
            "Generating from seed: \"said to al\"\n",
            "said to alice thought the dormouse did not a bothout on the window, and the mock turtle shouted the dormouse d==================================================\n",
            "GRU Iteration #: 17\n",
            "\u001b[1m1122/1122\u001b[0m \u001b[32m━━━━━━━━━━━━━━━━━━━━\u001b[0m\u001b[37m\u001b[0m \u001b[1m4s\u001b[0m 4ms/step - loss: 1.0441\n",
            "\n",
            "Generating from seed: \"l it had v\"\n",
            "l it had voice, and the mock turtle shouted the dormouse did not a bothout on the window, and the mock turtle ==================================================\n",
            "GRU Iteration #: 18\n",
            "\u001b[1m1122/1122\u001b[0m \u001b[32m━━━━━━━━━━━━━━━━━━━━\u001b[0m\u001b[37m\u001b[0m \u001b[1m4s\u001b[0m 4ms/step - loss: 1.0361\n",
            "\n",
            "Generating from seed: \"t had fall\"\n",
            "t had fally and the mock turtle shouted the dormouse did not a bothout on the window, and the mock turtle shou==================================================\n",
            "GRU Iteration #: 19\n",
            "\u001b[1m1122/1122\u001b[0m \u001b[32m━━━━━━━━━━━━━━━━━━━━\u001b[0m\u001b[37m\u001b[0m \u001b[1m4s\u001b[0m 3ms/step - loss: 1.0228\n",
            "\n",
            "Generating from seed: \"nce, and s\"\n",
            "nce, and she had a bothout on the window, and the mock turtle shouted the dormouse did not a bothout on the wi==================================================\n",
            "GRU Iteration #: 20\n",
            "\u001b[1m1122/1122\u001b[0m \u001b[32m━━━━━━━━━━━━━━━━━━━━\u001b[0m\u001b[37m\u001b[0m \u001b[1m4s\u001b[0m 3ms/step - loss: 1.0174\n",
            "\n",
            "Generating from seed: \"eep the sa\"\n",
            "eep the same the end of the white rabbit began to the caterpillar and the end of the white rabbit began to the==================================================\n",
            "GRU Iteration #: 21\n",
            "\u001b[1m1122/1122\u001b[0m \u001b[32m━━━━━━━━━━━━━━━━━━━━\u001b[0m\u001b[37m\u001b[0m \u001b[1m4s\u001b[0m 3ms/step - loss: 1.0090\n",
            "\n",
            "Generating from seed: \" grass rus\"\n",
            " grass rush a little one eash the white rabbit began to the caterpillar and the end of the white rabbit began ==================================================\n",
            "GRU Iteration #: 22\n",
            "\u001b[1m1122/1122\u001b[0m \u001b[32m━━━━━━━━━━━━━━━━━━━━\u001b[0m\u001b[37m\u001b[0m \u001b[1m4s\u001b[0m 3ms/step - loss: 1.0008\n",
            "\n",
            "Generating from seed: \"'d better \"\n",
            "'d better him the dormouse did not a bothout on the window, and the mock turtle shouted the dormouse did not a==================================================\n",
            "GRU Iteration #: 23\n",
            "\u001b[1m1122/1122\u001b[0m \u001b[32m━━━━━━━━━━━━━━━━━━━━\u001b[0m\u001b[37m\u001b[0m \u001b[1m4s\u001b[0m 3ms/step - loss: 0.9949\n",
            "\n",
            "Generating from seed: \"closer to \"\n",
            "closer to the thing the dormouse did not a bothout on the window, and the mock turtle shouted the dormouse did==================================================\n",
            "GRU Iteration #: 24\n",
            "\u001b[1m1122/1122\u001b[0m \u001b[32m━━━━━━━━━━━━━━━━━━━━\u001b[0m\u001b[37m\u001b[0m \u001b[1m4s\u001b[0m 3ms/step - loss: 0.9843\n",
            "\n",
            "Generating from seed: \" of \"uglif\"\n",
            " of \"uglifus the dormouse did not a bothout on the window, and the mock turtle shouted the dormouse did not a \n"
          ]
        }
      ]
    },
    {
      "cell_type": "code",
      "source": [
        "# Plot loss curves for both SimpleRNN and GRU models\n",
        "\n",
        "# Create a figure with defined size\n",
        "\n",
        "plt.figure(figsize=(8, 4))\n",
        "# Plot training loss for each model\n",
        "plt.plot(losses, label=\"SimpleRNN\")\n",
        "plt.plot(gru_losses, label=\"GRU\")\n",
        "\n",
        "# Add title and axis labels\n",
        "plt.title(\"Loss Curve Comparison: SimpleRNN vs GRU\")\n",
        "plt.xlabel(\"Epoch\")\n",
        "plt.ylabel(\"Loss\")\n",
        "\n",
        "# Add legend to distinguish the curves\n",
        "plt.legend()\n",
        "\n",
        "# Add grid for better readability\n",
        "plt.grid(True)\n",
        "\n",
        "# Display the plot\n",
        "plt.show()\n"
      ],
      "metadata": {
        "colab": {
          "base_uri": "https://localhost:8080/",
          "height": 410
        },
        "id": "pl0kmn_odH_B",
        "outputId": "00c96fab-d7e5-4699-b2f5-aecc6dbf40d7"
      },
      "execution_count": 27,
      "outputs": [
        {
          "output_type": "display_data",
          "data": {
            "text/plain": [
              "<Figure size 800x400 with 1 Axes>"
            ],
            "image/png": "[encoded data removed]"
          },
          "metadata": {}
        }
      ]
    },
    {
      "cell_type": "markdown",
      "source": [
        "# GRU SOURCE:https://www.kaggle.com/code/utkarshsaxenadn/text-generation-with-gru-cells-explained-code\n",
        "\n",
        "This source helped me understand how to implement a GRU-based models. While the original notebook defines a particular model, I adapted the core GRU structure to fit within the framework of my existing character-level RNN model. This allows for a direct comparison between the SimpleRNN and GRU models using consistent inputs, training conditions, and evaluation metrics."
      ],
      "metadata": {
        "id": "GkAO3k-WcGhv"
      }
    },
    {
      "cell_type": "markdown",
      "source": [
        "# TRANSFORMER"
      ],
      "metadata": {
        "id": "hHAoARFMeSZw"
      }
    },
    {
      "cell_type": "code",
      "source": [
        "import numpy as np\n",
        "import tensorflow.keras as keras\n",
        "import tensorflow as tf\n",
        "from tensorflow.keras.layers import Layer\n",
        "from tensorflow.keras import layers, ops  # `ops` is used for TensorFlow operations\n",
        "\n"
      ],
      "metadata": {
        "id": "9dWcZHaxgt9D"
      },
      "execution_count": 50,
      "outputs": []
    },
    {
      "cell_type": "markdown",
      "source": [],
      "metadata": {
        "id": "rNWN-LgmpESR"
      }
    },
    {
      "cell_type": "code",
      "source": [
        "from tensorflow.keras.layers import MultiHeadAttention, Dense, Dropout, LayerNormalization\n",
        "\n",
        "# Defines a single Transformer encoder block with self-attention and feed-forward layers\n",
        "class TransformerBlock(layers.Layer):\n",
        "    def __init__(self, embed_dim, num_heads, ff_dim, rate=0.1):\n",
        "        super().__init__()\n",
        "\n",
        "        # Multi-head self-attention layer\n",
        "        self.att = layers.MultiHeadAttention(num_heads=num_heads, key_dim=embed_dim)\n",
        "\n",
        "        # Feed-forward network: two dense layers\n",
        "        self.ffn = keras.Sequential([\n",
        "            layers.Dense(ff_dim, activation=\"relu\"),  # Project to a higher dimension\n",
        "            layers.Dense(embed_dim)                   # Return to original dimension\n",
        "        ])\n",
        "\n",
        "        # Layer normalizations for residual connections\n",
        "        self.layernorm1 = layers.LayerNormalization(epsilon=1e-6)\n",
        "        self.layernorm2 = layers.LayerNormalization(epsilon=1e-6)\n",
        "\n",
        "        # Dropout for regularization\n",
        "        self.dropout1 = layers.Dropout(rate)\n",
        "        self.dropout2 = layers.Dropout(rate)\n",
        "\n",
        "    def call(self, inputs):\n",
        "        # Self-attention + residual + normalization\n",
        "        attn_output = self.att(inputs, inputs)\n",
        "        attn_output = self.dropout1(attn_output)\n",
        "        out1 = self.layernorm1(inputs + attn_output)\n",
        "\n",
        "        # Feed-forward + residual + normalization\n",
        "        ffn_output = self.ffn(out1)\n",
        "        ffn_output = self.dropout2(ffn_output)\n",
        "        return self.layernorm2(out1 + ffn_output)\n"
      ],
      "metadata": {
        "id": "s-Jja4CCk8Ia"
      },
      "execution_count": 38,
      "outputs": []
    },
    {
      "cell_type": "code",
      "source": [
        "\n",
        "\n",
        "# This layer combines both token embedding and position embedding\n",
        "class TokenAndPositionEmbedding(layers.Layer):\n",
        "    def __init__(self, maxlen, vocab_size, embed_dim):\n",
        "        super().__init__()\n",
        "\n",
        "        # Embedding layer to learn vector representations of tokens (characters in your case)\n",
        "        self.token_emb = layers.Embedding(input_dim=vocab_size, output_dim=embed_dim)\n",
        "\n",
        "        # Embedding layer to learn positional encodings (instead of fixed sinusoids)\n",
        "        self.pos_emb = layers.Embedding(input_dim=maxlen, output_dim=embed_dim)\n",
        "\n",
        "    def call(self, x):\n",
        "        # Get the actual sequence length from input tensor\n",
        "        maxlen = ops.shape(x)[-1]\n",
        "\n",
        "        # Create position indices [0, 1, 2, ..., maxlen - 1]\n",
        "        positions = ops.arange(start=0, stop=maxlen, step=1)\n",
        "\n",
        "        # Embed the positions and tokens separately\n",
        "        positions = self.pos_emb(positions)\n",
        "        x = self.token_emb(x)\n",
        "\n",
        "        # Add token and position embeddings (element-wise addition)\n",
        "        return x + positions\n"
      ],
      "metadata": {
        "id": "I-UWH8LmotXw"
      },
      "execution_count": 39,
      "outputs": []
    },
    {
      "cell_type": "code",
      "source": [
        "from tensorflow.keras.models import Model\n",
        "from tensorflow.keras.layers import Input, Embedding, Dense\n",
        "\n",
        "# Builds a full Transformer model using the functional Keras API\n",
        "def build_transformer_model(seq_len, vocab_size, embed_dim=64, num_heads=2, ff_dim=128):\n",
        "    # Define input shape (batch, sequence length)\n",
        "    inputs = Input(shape=(seq_len,))\n",
        "\n",
        "    # Step 1: Embedding layer to map character indices to vectors\n",
        "    x = Embedding(input_dim=vocab_size, output_dim=embed_dim)(inputs)\n",
        "\n",
        "    # Step 2: Add fixed positional encodings\n",
        "    x = PositionalEncoding(seq_len, embed_dim)(x)\n",
        "\n",
        "    # Step 3: Apply Transformer encoder block (can be repeated)\n",
        "    x = TransformerBlock(embed_dim, num_heads, ff_dim)(x)\n",
        "\n",
        "    # Step 4: Predict the next character using the last timestep only\n",
        "    x = Dense(vocab_size, activation='softmax')(x[:, -1, :])  # Output shape: (batch_size, vocab_size)\n",
        "\n",
        "    # Final model: input -> Transformer -> prediction\n",
        "    model = Model(inputs, x)\n",
        "\n",
        "    # Compile the model for training\n",
        "    model.compile(loss='sparse_categorical_crossentropy', optimizer='adam')\n",
        "    return model\n"
      ],
      "metadata": {
        "id": "LsZ23NHOlL1M"
      },
      "execution_count": 40,
      "outputs": []
    },
    {
      "cell_type": "code",
      "source": [
        "from tensorflow.keras import layers, models\n",
        "\n",
        "# Function to build the Transformer model using your custom layers\n",
        "def build_transformer_model(seq_len, vocab_size, embed_dim=64, num_heads=2, ff_dim=128, dropout_rate=0.1):\n",
        "    # Input is a sequence of integers (character indices)\n",
        "    inputs = layers.Input(shape=(seq_len,))\n",
        "\n",
        "    # Token + position embedding layer\n",
        "    embedding_layer = TokenAndPositionEmbedding(seq_len, vocab_size, embed_dim)\n",
        "    x = embedding_layer(inputs)\n",
        "\n",
        "    # Transformer block (you can stack more later if desired)\n",
        "    transformer_block = TransformerBlock(embed_dim, num_heads, ff_dim, dropout_rate)\n",
        "    x = transformer_block(x)\n",
        "\n",
        "    # Only keep the final time step’s output (predict next character)\n",
        "    x = layers.Dense(vocab_size, activation=\"softmax\")(x[:, -1, :])\n",
        "\n",
        "    # Define model and compile with sparse categorical loss (for integer labels)\n",
        "    model = models.Model(inputs=inputs, outputs=x)\n",
        "    model.compile(loss=\"sparse_categorical_crossentropy\", optimizer=\"adam\")\n",
        "    return model\n"
      ],
      "metadata": {
        "id": "SXZbVIU8plEp"
      },
      "execution_count": 47,
      "outputs": []
    },
    {
      "cell_type": "code",
      "source": [
        "# Build the Transformer model using defined sequence length and vocabulary size\n",
        "# The model uses an embedding layer, positional encoding, transformer block, and output layer\n",
        "transformer_model = build_transformer_model(SEQLEN, nb_chars)\n",
        "\n",
        "\n",
        "# Initialize a list to store the training loss values at each iteration\n",
        "transformer_losses = []\n",
        "\n",
        "# Train the Transformer model for a specified number of outer iterations\n",
        "for iteration in range(NUM_ITERATIONS):\n",
        "    print(\"=\" * 50)\n",
        "    print(f\"Transformer Iteration #: {iteration}\")\n",
        "\n",
        "    # Train the model for a single epoch on the training data\n",
        "    # We use batch training with BATCH_SIZE samples per gradient update\n",
        "    history = transformer_model.fit(X, y, batch_size=BATCH_SIZE, epochs=NUM_EPOCHS_PER_ITERATION)\n",
        "\n",
        "    # Append the loss from this epoch to the loss list for plotting/comparison later\n",
        "    transformer_losses.extend(history.history[\"loss\"])\n",
        "\n",
        "     # Select a random seed sequence from training data\n",
        "    test_idx = np.random.randint(len(input_chars))\n",
        "    test_chars = input_chars[test_idx]\n",
        "\n",
        "    print(f\"\\nGenerating from seed: \\\"{test_chars}\\\"\")\n",
        "    print(test_chars, end=\"\")\n",
        "\n",
        "    # Generate NUM_PREDS_PER_EPOCH characters from the seed\n",
        "    for i in range(NUM_PREDS_PER_EPOCH):\n",
        "        # Create a new test input array with shape (1, SEQLEN), containing integer indices\n",
        "        Xtest = np.zeros((1, SEQLEN), dtype=np.int32)\n",
        "\n",
        "        for j, ch in enumerate(test_chars):\n",
        "            Xtest[0, j] = char2index[ch]  # Integer encode each character\n",
        "\n",
        "\n",
        "        # Predict next character probabilities\n",
        "        pred = transformer_model.predict(Xtest, verbose=0)[0]\n",
        "\n",
        "        # Pick the most probable next character\n",
        "        ypred = index2char[np.argmax(pred)]\n",
        "\n",
        "        # Print the predicted character\n",
        "        print(ypred, end=\"\")\n",
        "\n",
        "        # Slide the window: remove first char and append the predicted one\n",
        "        test_chars = test_chars[1:] + ypred\n",
        "\n",
        "print()  # Print newline after final output\n"
      ],
      "metadata": {
        "colab": {
          "base_uri": "https://localhost:8080/"
        },
        "id": "_CXaOK6NigfO",
        "outputId": "93341bf4-79d4-4749-d78f-82d042358675"
      },
      "execution_count": 51,
      "outputs": [
        {
          "output_type": "stream",
          "name": "stdout",
          "text": [
            "==================================================\n",
            "Transformer Iteration #: 0\n",
            "\u001b[1m1122/1122\u001b[0m \u001b[32m━━━━━━━━━━━━━━━━━━━━\u001b[0m\u001b[37m\u001b[0m \u001b[1m13s\u001b[0m 5ms/step - loss: 2.3693\n",
            "\n",
            "Generating from seed: \"lice was s\"\n",
            "lice was she the the the the the the the the the the the the the the the the the the the the the the the the t==================================================\n",
            "Transformer Iteration #: 1\n",
            "\u001b[1m1122/1122\u001b[0m \u001b[32m━━━━━━━━━━━━━━━━━━━━\u001b[0m\u001b[37m\u001b[0m \u001b[1m4s\u001b[0m 4ms/step - loss: 1.8653\n",
            "\n",
            "Generating from seed: \"rply and v\"\n",
            "rply and very the was the was the was the was the was the was the was the was the was the was the was the was ==================================================\n",
            "Transformer Iteration #: 2\n",
            "\u001b[1m1122/1122\u001b[0m \u001b[32m━━━━━━━━━━━━━━━━━━━━\u001b[0m\u001b[37m\u001b[0m \u001b[1m4s\u001b[0m 3ms/step - loss: 1.7613\n",
            "\n",
            "Generating from seed: \"ime with o\"\n",
            "ime with of the said the said the said the said the said the said the said the said the said the said the said==================================================\n",
            "Transformer Iteration #: 3\n",
            "\u001b[1m1122/1122\u001b[0m \u001b[32m━━━━━━━━━━━━━━━━━━━━\u001b[0m\u001b[37m\u001b[0m \u001b[1m4s\u001b[0m 4ms/step - loss: 1.7135\n",
            "\n",
            "Generating from seed: \"ans--to--m\"\n",
            "ans--to--mouse the dormouse the dormouse the dormouse the dormouse the dormouse the dormouse the dormouse the ==================================================\n",
            "Transformer Iteration #: 4\n",
            "\u001b[1m1122/1122\u001b[0m \u001b[32m━━━━━━━━━━━━━━━━━━━━\u001b[0m\u001b[37m\u001b[0m \u001b[1m4s\u001b[0m 4ms/step - loss: 1.6713\n",
            "\n",
            "Generating from seed: \" dinah, if\"\n",
            " dinah, if the she she she she she she she she she she she she she she she she she she she she she she she she==================================================\n",
            "Transformer Iteration #: 5\n",
            "\u001b[1m1122/1122\u001b[0m \u001b[32m━━━━━━━━━━━━━━━━━━━━\u001b[0m\u001b[37m\u001b[0m \u001b[1m5s\u001b[0m 4ms/step - loss: 1.6508\n",
            "\n",
            "Generating from seed: \"alice went\"\n",
            "alice went the white white white white white white white white white white white white white white white white==================================================\n",
            "Transformer Iteration #: 6\n",
            "\u001b[1m1122/1122\u001b[0m \u001b[32m━━━━━━━━━━━━━━━━━━━━\u001b[0m\u001b[37m\u001b[0m \u001b[1m5s\u001b[0m 4ms/step - loss: 1.6270\n",
            "\n",
            "Generating from seed: \"out ravens\"\n",
            "out ravens an the she she she she she she she she she she she she she she she she she she she she she she she ==================================================\n",
            "Transformer Iteration #: 7\n",
            "\u001b[1m1122/1122\u001b[0m \u001b[32m━━━━━━━━━━━━━━━━━━━━\u001b[0m\u001b[37m\u001b[0m \u001b[1m4s\u001b[0m 4ms/step - loss: 1.6135\n",
            "\n",
            "Generating from seed: \"ing of tum\"\n",
            "ing of tumpoke the said the can a little said the can a little said the can a little said the can a little sai==================================================\n",
            "Transformer Iteration #: 8\n",
            "\u001b[1m1122/1122\u001b[0m \u001b[32m━━━━━━━━━━━━━━━━━━━━\u001b[0m\u001b[37m\u001b[0m \u001b[1m4s\u001b[0m 4ms/step - loss: 1.5942\n",
            "\n",
            "Generating from seed: \"o she bega\"\n",
            "o she began a like the was she was she was she was she was she was she was she was she was she was she was she==================================================\n",
            "Transformer Iteration #: 9\n",
            "\u001b[1m1122/1122\u001b[0m \u001b[32m━━━━━━━━━━━━━━━━━━━━\u001b[0m\u001b[37m\u001b[0m \u001b[1m5s\u001b[0m 4ms/step - loss: 1.5814\n",
            "\n",
            "Generating from seed: \"u--ootiful\"\n",
            "u--ootiful the said the said the said the said the said the said the said the said the said the said the said ==================================================\n",
            "Transformer Iteration #: 10\n",
            "\u001b[1m1122/1122\u001b[0m \u001b[32m━━━━━━━━━━━━━━━━━━━━\u001b[0m\u001b[37m\u001b[0m \u001b[1m5s\u001b[0m 4ms/step - loss: 1.5733\n",
            "\n",
            "Generating from seed: \" so violen\"\n",
            " so violent the said the said the said the said the said the said the said the said the said the said the said==================================================\n",
            "Transformer Iteration #: 11\n",
            "\u001b[1m1122/1122\u001b[0m \u001b[32m━━━━━━━━━━━━━━━━━━━━\u001b[0m\u001b[37m\u001b[0m \u001b[1m4s\u001b[0m 4ms/step - loss: 1.5630\n",
            "\n",
            "Generating from seed: \"ely and lo\"\n",
            "ely and look the could the could the could the could the could the could the could the could the could the cou==================================================\n",
            "Transformer Iteration #: 12\n",
            "\u001b[1m1122/1122\u001b[0m \u001b[32m━━━━━━━━━━━━━━━━━━━━\u001b[0m\u001b[37m\u001b[0m \u001b[1m5s\u001b[0m 4ms/step - loss: 1.5568\n",
            "\n",
            "Generating from seed: \"r it would\"\n",
            "r it would the mouse the mouse the mouse the mouse the mouse the mouse the mouse the mouse the mouse the mouse==================================================\n",
            "Transformer Iteration #: 13\n",
            "\u001b[1m1122/1122\u001b[0m \u001b[32m━━━━━━━━━━━━━━━━━━━━\u001b[0m\u001b[37m\u001b[0m \u001b[1m5s\u001b[0m 4ms/step - loss: 1.5517\n",
            "\n",
            "Generating from seed: \"gryphon:  \"\n",
            "gryphon:  `i was the said the said the said the said the said the said the said the said the said the said the==================================================\n",
            "Transformer Iteration #: 14\n",
            "\u001b[1m1122/1122\u001b[0m \u001b[32m━━━━━━━━━━━━━━━━━━━━\u001b[0m\u001b[37m\u001b[0m \u001b[1m4s\u001b[0m 4ms/step - loss: 1.5491\n",
            "\n",
            "Generating from seed: \" (`that's \"\n",
            " (`that's the mouse the don't a little she was she was she was she was she was she was she was she was she was==================================================\n",
            "Transformer Iteration #: 15\n",
            "\u001b[1m1122/1122\u001b[0m \u001b[32m━━━━━━━━━━━━━━━━━━━━\u001b[0m\u001b[37m\u001b[0m \u001b[1m5s\u001b[0m 4ms/step - loss: 1.5409\n",
            "\n",
            "Generating from seed: \" and grinn\"\n",
            " and grinned the had the had the had the had the had the had the had the had the had the had the had the had t==================================================\n",
            "Transformer Iteration #: 16\n",
            "\u001b[1m1122/1122\u001b[0m \u001b[32m━━━━━━━━━━━━━━━━━━━━\u001b[0m\u001b[37m\u001b[0m \u001b[1m4s\u001b[0m 4ms/step - loss: 1.5323\n",
            "\n",
            "Generating from seed: \"ds.' `stuf\"\n",
            "ds.' `stuffered to the down the down the down the down the down the down the down the down the down the down t==================================================\n",
            "Transformer Iteration #: 17\n",
            "\u001b[1m1122/1122\u001b[0m \u001b[32m━━━━━━━━━━━━━━━━━━━━\u001b[0m\u001b[37m\u001b[0m \u001b[1m4s\u001b[0m 4ms/step - loss: 1.5232\n",
            "\n",
            "Generating from seed: \"happy. `it\"\n",
            "happy. `it was the was the was the was the was the was the was the was the was the was the was the was the was==================================================\n",
            "Transformer Iteration #: 18\n",
            "\u001b[1m1122/1122\u001b[0m \u001b[32m━━━━━━━━━━━━━━━━━━━━\u001b[0m\u001b[37m\u001b[0m \u001b[1m5s\u001b[0m 4ms/step - loss: 1.5248\n",
            "\n",
            "Generating from seed: \"e that sto\"\n",
            "e that stortle the courtle the courtle the courtle the courtle the courtle the courtle the courtle the courtle==================================================\n",
            "Transformer Iteration #: 19\n",
            "\u001b[1m1122/1122\u001b[0m \u001b[32m━━━━━━━━━━━━━━━━━━━━\u001b[0m\u001b[37m\u001b[0m \u001b[1m5s\u001b[0m 4ms/step - loss: 1.5117\n",
            "\n",
            "Generating from seed: \"e. `nothin\"\n",
            "e. `nothing the said the mock the caterried the mock the caterried the mock the caterried the mock the caterri==================================================\n",
            "Transformer Iteration #: 20\n",
            "\u001b[1m1122/1122\u001b[0m \u001b[32m━━━━━━━━━━━━━━━━━━━━\u001b[0m\u001b[37m\u001b[0m \u001b[1m5s\u001b[0m 4ms/step - loss: 1.5158\n",
            "\n",
            "Generating from seed: \"ur times s\"\n",
            "ur times she was she was she was she was she was she was she was she was she was she was she was she was she w==================================================\n",
            "Transformer Iteration #: 21\n",
            "\u001b[1m1122/1122\u001b[0m \u001b[32m━━━━━━━━━━━━━━━━━━━━\u001b[0m\u001b[37m\u001b[0m \u001b[1m4s\u001b[0m 4ms/step - loss: 1.5114\n",
            "\n",
            "Generating from seed: \"t there wa\"\n",
            "t there was the she was the she was the she was the she was the she was the she was the she was the she was th==================================================\n",
            "Transformer Iteration #: 22\n",
            "\u001b[1m1122/1122\u001b[0m \u001b[32m━━━━━━━━━━━━━━━━━━━━\u001b[0m\u001b[37m\u001b[0m \u001b[1m4s\u001b[0m 4ms/step - loss: 1.5081\n",
            "\n",
            "Generating from seed: \"rant littl\"\n",
            "rant little she she she she she she she she she she she she she she she she she she she she she she she she sh==================================================\n",
            "Transformer Iteration #: 23\n",
            "\u001b[1m1122/1122\u001b[0m \u001b[32m━━━━━━━━━━━━━━━━━━━━\u001b[0m\u001b[37m\u001b[0m \u001b[1m4s\u001b[0m 4ms/step - loss: 1.5006\n",
            "\n",
            "Generating from seed: \"id alice. \"\n",
            "id alice. `i should the mouse the she was she was she was she was she was she was she was she was she was she ==================================================\n",
            "Transformer Iteration #: 24\n",
            "\u001b[1m1122/1122\u001b[0m \u001b[32m━━━━━━━━━━━━━━━━━━━━\u001b[0m\u001b[37m\u001b[0m \u001b[1m4s\u001b[0m 4ms/step - loss: 1.4965\n",
            "\n",
            "Generating from seed: \" been a re\"\n",
            " been a read the mock turtle to the mock turtle to the mock turtle to the mock turtle to the mock turtle to th\n"
          ]
        }
      ]
    },
    {
      "cell_type": "code",
      "source": [
        "# Plot loss curves for all three, SimpleRNN and GRU and Transformer models\n",
        "# This visual comparison helps evaluate which model learns more effectively\n",
        "\n",
        "# Create a figure with defined size\n",
        "plt.figure(figsize=(10, 5))\n",
        "\n",
        "# Plot training loss for each model\n",
        "plt.plot(losses, label=\"SimpleRNN\", linestyle='--')\n",
        "plt.plot(gru_losses, label=\"GRU\", linestyle='-.')\n",
        "plt.plot(transformer_losses, label=\"Transformer\", linestyle='-')\n",
        "\n",
        "# Add title and axis labels\n",
        "plt.title(\"Training Loss Comparison: SimpleRNN vs GRU vs Transformer\")\n",
        "plt.xlabel(\"Epoch\")\n",
        "plt.ylabel(\"Loss\")\n",
        "\n",
        "# Add legend to distinguish the curves\n",
        "plt.legend()\n",
        "\n",
        "# Add grid for better readability\n",
        "plt.grid(True)\n",
        "\n",
        "# Display the plot\n",
        "plt.show()"
      ],
      "metadata": {
        "colab": {
          "base_uri": "https://localhost:8080/",
          "height": 487
        },
        "id": "ohB--Av1jJoa",
        "outputId": "f203746a-2619-4aed-ea75-b7295420ade5"
      },
      "execution_count": 52,
      "outputs": [
        {
          "output_type": "display_data",
          "data": {
            "text/plain": [
              "<Figure size 1000x500 with 1 Axes>"
            ],
            "image/png": "[encoded data removed]"
          },
          "metadata": {}
        }
      ]
    },
    {
      "cell_type": "markdown",
      "source": [
        "#CONCLUSIONS AND COMPARISONS\n",
        "\n"
      ],
      "metadata": {
        "id": "CjLz942ls9da"
      }
    },
    {
      "cell_type": "markdown",
      "source": [
        "GRU (orange) consistently achieves the lowest loss throughout training. This is potentially due to its gating mechanism and memory efficiency.\n",
        "\n",
        "SimpleRNN (blue) starts with high loss but shows steady improvement, though it plateaus earlier than the others as this is not an optimal method.\n",
        "\n",
        "Transformer (green) starts strong and learns quickly early on but then flattens. This is expected in smaller Transformers without a lot of depth or large a dataset."
      ],
      "metadata": {
        "id": "0K3zDZzXtIGo"
      }
    },
    {
      "cell_type": "markdown",
      "source": [
        "In this project, I trained three sequence-to-sequence models. A SimpleRNN, GRU, and a Transformer on a character-level language modeling task using the Alice in Wonderland dataset. Quantitatively, the GRU model achieved the lowest final training loss (approx. 1.0), followed by the Transformer (appox. 1.5) and then the SimpleRNN (approx. 1.3). This indicates that this particular GRU model learns more efficiently. We can attribute this to its gating mechanisms which help preserve relevant context over longer sequences. The Transformer started well seemed to converge quickly, but flattened out earlier than GRU due to limited model depth or a relatively small dataset. The SimpleRNN showed steady learning but plateaued sooner, reflecting its difficulty in capturing long-term dependencies.\n",
        "\n",
        "Qualitatively, the text generated by the GRU was the most coherent, producing ledgeble character sequences and sometimes forming recognizable English words. The Transformer generated combinations and seemed to preserve stylistic patterns but also produced fragmented repeated or \"stuttered\" sequences. The SimpleRNN outputs also often repetitive highlighting its weaker ability to model complex dependencies. Overall, GRU provided the best tradeoff between training performance and generative quality in this task, while the Transformer showed potential with further tuning or scaling."
      ],
      "metadata": {
        "id": "RJaLFjwft0Y8"
      }
    },
    {
      "cell_type": "markdown",
      "source": [
        "# Transformer Source: https://www.kaggle.com/code/bravesimba/implementing-transformers-for-text-generator"
      ],
      "metadata": {
        "id": "d3Zgeu30gj9g"
      }
    },
    {
      "cell_type": "markdown",
      "source": [
        "While adapting to its structure, I gained a deeper understanding of how Transformer models work in sequence modeling tasks. I learned how the positional encoding mechanism is used to inject order information into input embeddings, which is required since Transformers do not have recurrence. I also found that the multi-head self-attention layer’s role in allowing the model to weigh different parts of the input sequence when predicting the next token. Implementing the model also helped clarify the architectural flow: embedding to positional encoding to Transformer blocks to dense output. Compared to RNNs and GRUs, I saw how Transformers can process sequences in parallel and may require more data or tuning but are powerful modles overall. Unfortunatly this \"Scratch\" model does not perform as well as I believe so I switching to a second source."
      ],
      "metadata": {
        "id": "S5hzzC_Wl0Ml"
      }
    },
    {
      "cell_type": "markdown",
      "source": [
        "# Transformer Source: https://keras.io/examples/nlp/text_classification_with_transformer/\n"
      ],
      "metadata": {
        "id": "0IyynUWun9V7"
      }
    },
    {
      "cell_type": "markdown",
      "source": [
        "This source provided a modular way to implement a Transformer instead of building it from scratch. I was able tonderstand how to use Keras' high-level layers like MultiHeadAttentionband Embedding to construct aTransformer block. The TransformerBlock and TokenAndPositionEmbedding, I adapted to my character-level language model for comparison agains the other two models. Overall, this source was key in helping me build a my current Transformer."
      ],
      "metadata": {
        "id": "H_6pTbmyrVMU"
      }
    }
  ]
}